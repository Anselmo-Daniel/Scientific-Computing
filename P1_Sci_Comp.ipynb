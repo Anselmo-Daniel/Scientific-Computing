{
  "nbformat": 4,
  "nbformat_minor": 0,
  "metadata": {
    "colab": {
      "provenance": []
    },
    "kernelspec": {
      "name": "python3",
      "display_name": "Python 3"
    },
    "language_info": {
      "name": "python"
    }
  },
  "cells": [
    {
      "cell_type": "markdown",
      "source": [
        "# Prova I - Computação Científica II\n",
        "\n",
        "### Aluno: Daniel Anselmo Nascimento de Souza"
      ],
      "metadata": {
        "id": "M12JXOjExDhf"
      }
    },
    {
      "cell_type": "code",
      "execution_count": null,
      "metadata": {
        "id": "bDucZkWhwxk9"
      },
      "outputs": [],
      "source": [
        "import numpy as np\n",
        "import matplotlib.pyplot as plt"
      ]
    },
    {
      "cell_type": "markdown",
      "source": [
        "# Questão 1\n",
        "\n",
        "Temos que para o problema de $ \\frac{du}{dt} = \\lambda u $, a solução analítica é da forma: $ u(t) = e^{\\lambda u} $. Dessa forma, para a solução analítica convergir precisamos que $Re(\\lambda) < 0$ .\n",
        "\n",
        "\n",
        "Usando o método de Crank-Nicolson, temos que:\n",
        "\n",
        "$$ u_{n+1} = u_n + \\frac{h}{2} \\cdot (f_n + f_{n+1}) $$\n",
        "\n",
        "$$ u_{n+1} = u_n + \\frac{h}{2} \\cdot (\\lambda u_n + \\lambda u_{n+1}) $$\n",
        "\n",
        "$$ u_{n+1} - \\frac{h}{2} \\cdot u_{n+1} = un + \\frac{h}{2} \\lambda u_n $$\n",
        "\n",
        "Dessa forma, temos que:\n",
        "\n",
        "$$ u_{n+1} = u_n \\cdot \\frac{1 +  \\frac{\\lambda h}{2}}{1 -  \\frac{\\lambda h}{2}}  $$\n",
        "\n",
        "Para $n=0$, temos:\n",
        "\n",
        "$$ u_{1} = u_0 \\cdot \\frac{1 +  \\frac{\\lambda h}{2}}{1 -  \\frac{\\lambda h}{2}}  $$\n",
        "\n",
        "Para $n=1$, temos:\n",
        "\n",
        "$$ u_{2} = u_1 \\cdot \\frac{1 +  \\frac{\\lambda h}{2}}{1 -  \\frac{\\lambda h}{2}}  =  u_0 \\cdot \\bigg(\\frac{1 +  \\frac{\\lambda h}{2}}{1 -  \\frac{\\lambda h}{2}}\\bigg)^{2}  $$\n",
        "\n",
        "Generalizando, temos que:\n",
        "\n",
        "$$ u_{n+1} = u_0 \\cdot \\bigg(\\frac{1 +  \\frac{\\lambda h}{2}}{1 -  \\frac{\\lambda h}{2}}\\bigg)^{n+1}  $$\n",
        "\n",
        "Para os pontos $u_{n}$ convergirem, precisamos que o valor absoluto da expressão $\\frac{1 +  \\frac{\\lambda h}{2}}{1 -  \\frac{\\lambda h}{2}}$ seja menor ou igual a 1.\n",
        "\n",
        "Dessa forma, a região de estabilidade do método de Crank-Nicolson é:\n",
        "\n",
        "$$ \\Bigg|\\frac{1 +  \\frac{\\lambda h}{2}}{1 -  \\frac{\\lambda h}{2}}\\Bigg| \\leq 1 $$"
      ],
      "metadata": {
        "id": "Tw2OmaKMztHn"
      }
    },
    {
      "cell_type": "code",
      "source": [
        "x = np.linspace(-10,10,1000)\n",
        "y = np.linspace(-10,10,1000)\n",
        "\n",
        "pares = []\n",
        "\n",
        "for i in range(len(x)):\n",
        "  for j in range(len(y)):\n",
        "    pares.append((x[i], y[j]))\n",
        "\n",
        "z = []\n",
        "\n",
        "for i in pares:\n",
        "  z.append(complex(i[0], i[1]))\n",
        "\n",
        "z = np.array(z)\n",
        "\n",
        "def ineq_crank(hlambd):\n",
        "  return (1 + (hlambd)/2)/(1 - (hlambd)/2)\n",
        "\n",
        "pontos_reg = []\n",
        "eixo_x = []\n",
        "\n",
        "for i in z:\n",
        "  if abs(ineq_crank(i)) < 1:\n",
        "    eixo_x.append(i.real)\n",
        "    pontos_reg.append(i.imag)\n",
        "\n",
        "eixo_x = np.array(eixo_x)\n",
        "pontos_reg = np.array(pontos_reg)\n",
        "\n",
        "plt.scatter(eixo_x, pontos_reg)\n",
        "plt.xlabel('Parte Real de $h \\lambda$')\n",
        "plt.ylabel('Parte Imaginária de $h \\lambda$')\n",
        "plt.title('Região de Estabilidade - Método Crank-Nicolson')\n",
        "plt.grid()\n",
        "plt.show()"
      ],
      "metadata": {
        "colab": {
          "base_uri": "https://localhost:8080/",
          "height": 297
        },
        "id": "CAGhNwDtxDVI",
        "outputId": "bc599cff-6184-475f-e3e8-4b4b9a84b2e9"
      },
      "execution_count": null,
      "outputs": [
        {
          "output_type": "display_data",
          "data": {
            "text/plain": [
              "<Figure size 432x288 with 1 Axes>"
            ],
            "image/png": "[encoded data removed]"
          },
          "metadata": {
            "needs_background": "light"
          }
        }
      ]
    },
    {
      "cell_type": "markdown",
      "source": [
        "# Questão 3"
      ],
      "metadata": {
        "id": "rPNDT_YfMaTw"
      }
    },
    {
      "cell_type": "markdown",
      "source": [
        "## Letra a)\n",
        "\n",
        "$$ - \\epsilon \\frac{d^2 u}{dx^2} + \\frac{du}{dx} = 0  $$\n",
        "\n",
        "Substituindo $\\frac{d^2 u}{dx^2}$ por $r^2$ e $\\frac{du}{dx} $ por $r$, temos que:\n",
        "\n",
        "$$ -\\epsilon r^2  + r = 0 $$\n",
        "\n",
        "$$ r(-\\epsilon r + 1) = 0 $$\n",
        "\n",
        "Calculando os valores de $r$, temos:\n",
        "\n",
        "$ r_1 = 0$ e $ r_2 = \\frac{1}{\\epsilon} $\n",
        "\n",
        "A solução dessa equação diferencial é da forma:\n",
        "\n",
        "$$ u(x) = c_1 \\cdot e^{r_1 x} + c_2 \\cdot e^{r_2 x} $$\n",
        "\n",
        "Substituindo os valores de $r_1$ e $r_2$, temos:\n",
        "\n",
        "$$ u(x) = c_1 + c_2 \\cdot e^{\\frac{x}{\\epsilon}} $$\n",
        "\n",
        "Usando as condições do enunciado, $ u(0) = 0$ e $ \\frac{du(1)}{dx} = 1$, temos que\n",
        "\n",
        "$$  \\left \\{ \\begin{matrix} c_1 + c_2 = 0 & \\mbox{ }\\mbox{} \\\\  c_2 \\cdot \\frac{1}{\\epsilon} \\cdot e^{\\frac{1}{\\epsilon}} = 1 & \\mbox{}\\mbox{} \\end{matrix} \\right. $$\n",
        "\n",
        "Resolvendo o sistema, temos que:\n",
        "\n",
        "$$ c_1 = - \\frac{\\epsilon}{e^{\\frac{1}{\\epsilon}}} $$\n",
        "\n",
        "<br>\n",
        "\n",
        "$$ c_2 = \\frac{\\epsilon}{e^{\\frac{1}{\\epsilon}}} $$\n",
        "\n",
        "Dessa forma, temos que a solução analítica para essa equação é:\n",
        "\n",
        "$$ u(x) = \\epsilon \\cdot e^{-\\frac{1}{\\epsilon}} \\cdot (-1 + e^{\\frac{x}{\\epsilon}}) $$"
      ],
      "metadata": {
        "id": "odV5buLkq9Xi"
      }
    },
    {
      "cell_type": "code",
      "source": [
        "def analitica(x, eps):\n",
        "  return (eps/np.exp(1/eps)) * (-1 + np.exp(x/eps))"
      ],
      "metadata": {
        "id": "JFQAi1CEdEWc"
      },
      "execution_count": null,
      "outputs": []
    },
    {
      "cell_type": "markdown",
      "source": [
        "## Letra b)\n",
        "\n",
        "Vamos construir nosso grid entre $x_0$ e $x_{N+1}$ de forma que nosso $x_0 = u(0) = 0$ e nosso $x_{N} = u(1)$\n",
        "\n",
        "\n",
        "Vamos querer calcular os pontos internos desse grid. Usando as aproximações da derivada de 2ª ordem e derivada central, temos:\n",
        "\n",
        "$$ \\frac{du_i}{dx} = \\frac{u_{i+1} - u_{i-1}}{2h} $$ e $$ \\frac{d^2u_i}{dx^2} = \\frac{u_{i+1} -2u_{i} + u_{i+1}}{h^2} $$\n",
        "\n",
        "<br>\n",
        "\n",
        "Iremos usar essas aproximações $ \\forall i \\in \\{1, ..., N\\}$\n",
        "\n",
        "Substituindo as aproximações para as derivadas na função $ - \\epsilon \\frac{d^2 u}{dx^2} + \\frac{du}{dx} = 0 $, temos:\n",
        "\n",
        "\n",
        "$$ - \\epsilon \\cdot ( u_{i+1} - 2u_i + u_{i-1} ) (2h) + (u_{i+1} - u_{i-1})(h^2) = 0 $$\n",
        "\n",
        "<br>\n",
        "\n",
        "Calculando e juntando termo a termo, temos:\n",
        "\n",
        "$$ (-2\\epsilon +h) u_{i+1} + 4\\epsilon u_{i} - (2\\epsilon +h) u_{i-1} = 0 $$\n",
        "\n",
        "<br>\n",
        "\n",
        "Para $ i = 1$, temos:\n",
        "\n",
        "$$  (-2\\epsilon +h) u_{2} + 4\\epsilon u_{1} = 0$$\n",
        "\n",
        "<br>\n",
        "\n",
        "Para $ i = N$, temos:\n",
        "\n",
        "$$ (-2\\epsilon +h) u_{N+1} + 4\\epsilon u_{N} - (2\\epsilon +h) u_{N-1} = 0 $$\n",
        "\n",
        "<br>\n",
        "\n",
        "Se calcularmos a derivada central em $ i = N$, temos:\n",
        "\n",
        "$$ \\frac{du_N}{dx} = \\frac{du(1)}{dx} = \\frac{u_{N+1} - u_{N-1}}{2h} = 1  $$\n",
        "\n",
        "<br>\n",
        "\n",
        "Essa última equação nos dá:\n",
        "\n",
        "$$ u_{N+1} = 2h + u_{N-1}  $$\n",
        "\n",
        "Substituindo esse valor para $ u_{N=1}$, temos:\n",
        "\n",
        "<br>\n",
        "\n",
        "$$ (-2\\epsilon +h) (2h + u_{N-1}) + 4\\epsilon u_{N} - (2\\epsilon +h) u_{N-1} = 0 $$\n",
        "\n",
        "<br>\n",
        "\n",
        "$$ -4\\epsilon h - 2\\epsilon u_{N-1} + 2 h^2 + h u_{N-1} + 4\\epsilon u_{N} - 2\\epsilon u_{N-1} - h u_{N-1} = 0   $$\n",
        "\n",
        "<br>\n",
        "\n",
        "Fazendo as contas temos:\n",
        "\n",
        "$$ u_{N} - u_{N-1} = h - \\frac{h^2}{2\\epsilon} $$\n",
        "\n",
        "<br>\n",
        "\n",
        "Jutando todas as informações e construindo a equação matricial, temos:\n",
        "<br>\n",
        "\n",
        "$$  \\begin{bmatrix}\n",
        "4\\epsilon & -2\\epsilon + h & 0 & \\cdots & 0\\\\\n",
        "-(2\\epsilon + h) & 4\\epsilon & -2\\epsilon + h & \\cdots & 0\\\\\n",
        "\\vdots & \\vdots &\\ddots & \\vdots & \\vdots\\\\\n",
        "0 & \\cdots & -(2\\epsilon + h) & 4\\epsilon & -2\\epsilon + h\\\\\n",
        "0 & \\cdots & \\cdots & -1 & 1\n",
        "\\end{bmatrix}  \\cdot \\begin{bmatrix}\n",
        " u_1 \\\\\n",
        " u_2 \\\\\n",
        "\\vdots \\\\\n",
        "\\vdots\\\\\n",
        "u_{N}\\end{bmatrix} = \\begin{bmatrix}\n",
        " 0 \\\\\n",
        " \\vdots \\\\\n",
        "\\vdots \\\\\n",
        "0\\\\\n",
        "h - \\frac{h^2}{2\\epsilon}\\end{bmatrix}\n",
        "$$\n"
      ],
      "metadata": {
        "id": "6Kac6-dirCaT"
      }
    },
    {
      "cell_type": "markdown",
      "source": [
        "## Letra c)"
      ],
      "metadata": {
        "id": "aj8mAgCsrGdp"
      }
    },
    {
      "cell_type": "code",
      "source": [
        "def matriz_diag(N, eps, h):\n",
        "  A = np.zeros((N,N))\n",
        "\n",
        "  for i, linha in enumerate(A):\n",
        "    linha[i] = 4*eps\n",
        "\n",
        "    if i == 0:\n",
        "      linha[1] = -2*eps + h\n",
        "\n",
        "    elif i == N-1:\n",
        "      linha[N-1] = 1\n",
        "      linha[N-2] = -1\n",
        "\n",
        "    else:\n",
        "      linha[i - 1] = -(2*eps + h)\n",
        "      linha[i + 1] = -2*eps + h\n",
        "\n",
        "  return A"
      ],
      "metadata": {
        "id": "FsAFz0NFe6L-"
      },
      "execution_count": null,
      "outputs": []
    },
    {
      "cell_type": "code",
      "source": [
        "def numerica(t0, tf, u0, eps, N):\n",
        "  h = (tf - t0)/(N+1)\n",
        "\n",
        "  A = matriz_diag(N, eps, h)\n",
        "\n",
        "  vec_f = []\n",
        "  for i in range(N):\n",
        "    vec_f.append(0)\n",
        "\n",
        "  vec_f[-1] = (h - (h**(2))/2*eps)\n",
        "  vec_f = np.array(vec_f)\n",
        "\n",
        "  sol_alg = np.linalg.solve(A, vec_f)\n",
        "\n",
        "  sol = [u0]\n",
        "  for i in sol_alg:\n",
        "    sol.append(i)\n",
        "\n",
        "  uf = (-4*eps*sol[-1] + (2*eps + h)*sol[-2])/(-2*eps + h)\n",
        "\n",
        "  sol.append(uf)\n",
        "  sol = np.array(sol)\n",
        "\n",
        "  xn = [t0]\n",
        "\n",
        "  for i in np.linspace(t0+h, tf, num = N, endpoint = False ):\n",
        "    xn.append(i)\n",
        "\n",
        "  xn.append(tf)\n",
        "  xn = np.array(xn)\n",
        "\n",
        "  return xn, sol"
      ],
      "metadata": {
        "id": "u68BmslwzROQ"
      },
      "execution_count": null,
      "outputs": []
    },
    {
      "cell_type": "code",
      "source": [
        "eixo_x, eixo_y = numerica(0, 1, 0, 0.01, 1000)"
      ],
      "metadata": {
        "id": "d-TvMRm7dAdW"
      },
      "execution_count": null,
      "outputs": []
    },
    {
      "cell_type": "code",
      "source": [
        "plt.figure(figsize=(9,9))\n",
        "plt.title('Solução para $ N = 1000$ e $ \\epsilon = 0.01 $')\n",
        "plt.plot(eixo_x, eixo_y, label = 'Numérica')\n",
        "plt.plot(eixo_x, analitica(eixo_x, 0.01), label = 'Analítica')\n",
        "plt.legend()\n",
        "plt.grid()\n",
        "plt.show()"
      ],
      "metadata": {
        "colab": {
          "base_uri": "https://localhost:8080/",
          "height": 555
        },
        "id": "CKajMikpafpq",
        "outputId": "c8e2d9f7-adad-4989-b340-475de3f0d4d3"
      },
      "execution_count": null,
      "outputs": [
        {
          "output_type": "display_data",
          "data": {
            "text/plain": [
              "<Figure size 648x648 with 1 Axes>"
            ],
            "image/png": "[encoded data removed]"
          },
          "metadata": {
            "needs_background": "light"
          }
        }
      ]
    },
    {
      "cell_type": "markdown",
      "source": [
        "## Letra d)"
      ],
      "metadata": {
        "id": "EkqwKnYbrYV_"
      }
    },
    {
      "cell_type": "code",
      "source": [
        "def rk4_du(du, t0, tf, eps, N):\n",
        "\n",
        "  h = (tf - t0)/(N+1)\n",
        "\n",
        "  for i in range(N):\n",
        "    k1_du = (du[-1])*(1/eps)\n",
        "    k2_du = (du[-1] + (h*k1_du/2))*(1/eps)\n",
        "    k3_du = (du[-1] + (h*k2_du/2))*(1/eps)\n",
        "    k4_du = (du[-1] + (h*k3_du))*(1/eps)\n",
        "\n",
        "    dun = du[-1] + (h/6) * (k1_du+ 2*k2_du + 2*k3_du + k4_du)\n",
        "    du.append(dun)\n",
        "\n",
        "  return np.array(du)\n",
        "\n",
        "def sec(chutes,N):\n",
        "\n",
        "  ult_du_1 = rk4_du([chutes[-1]], 0, 1, 0.01, N)[-1] - 1\n",
        "  ult_du_2 = rk4_du([chutes[-2]], 0, 1, 0.01, N)[-1] - 1\n",
        "\n",
        "  while abs(ult_du_1) > 1e-6:\n",
        "\n",
        "    frac = ((ult_du_1) * (chutes[-1] - chutes[-2]))/((ult_du_1) - (ult_du_2))\n",
        "\n",
        "    new_chute = chutes[-1] - frac\n",
        "\n",
        "    chutes.append(new_chute)\n",
        "\n",
        "    ult_du_1 = rk4_du([chutes[-1]], 0, 1, 0.01, N)[-1] - 1\n",
        "    ult_du_2 = rk4_du([chutes[-2]], 0, 1, 0.01, N)[-1] - 1\n",
        "\n",
        "  return new_chute\n",
        "\n",
        "du_s = rk4_du([sec([1,0], 1000)], 0, 1, 0.01, 1000)  # ---> Chute inicial para du\n",
        "\n",
        "def rk4_u(u0, t0, tf, eps, N):\n",
        "  u = [u0]\n",
        "  h = (tf - t0)/(N+1)\n",
        "\n",
        "  tn = [t0]\n",
        "  ti = t0+h\n",
        "\n",
        "  for i in range(N):\n",
        "\n",
        "    k1 = du_s[i]\n",
        "    k2 = du_s[i] + (h*k1/2)\n",
        "    k3 = du_s[i] + (h*k2/2)\n",
        "    k4 = du_s[i] + h*k3\n",
        "\n",
        "    tn.append(ti)\n",
        "    ti += h\n",
        "\n",
        "    un = du_s[i] + h/6 * (k1+ 2*k2 + 2*k3 + k4)\n",
        "    u.append(un)\n",
        "\n",
        "  return np.array(tn), np.array(u)"
      ],
      "metadata": {
        "id": "YT-_4dQmrZ6e"
      },
      "execution_count": null,
      "outputs": []
    },
    {
      "cell_type": "code",
      "source": [
        "eixo_x_2, eixo_y_2 = rk4_u(0, 0, 1, 0.01, 1000)"
      ],
      "metadata": {
        "id": "o6t0BTPr8Yg_"
      },
      "execution_count": null,
      "outputs": []
    },
    {
      "cell_type": "code",
      "source": [
        "plt.figure(figsize=(9,9))\n",
        "plt.title('Solução para $ N= 1000 $ e $ \\epsilon = 0.01 $')\n",
        "plt.plot(eixo_x_2, eixo_y_2, label = 'Numérica')\n",
        "plt.plot(eixo_x_2, analitica(eixo_x_2, 0.01), label = 'Analítica')\n",
        "plt.legend()\n",
        "plt.grid()\n",
        "plt.show()"
      ],
      "metadata": {
        "colab": {
          "base_uri": "https://localhost:8080/",
          "height": 555
        },
        "id": "B-UXuQKx8uYo",
        "outputId": "33939163-be2c-4de1-b884-42d1d6d228e6"
      },
      "execution_count": null,
      "outputs": [
        {
          "output_type": "display_data",
          "data": {
            "text/plain": [
              "<Figure size 648x648 with 1 Axes>"
            ],
            "image/png": "[encoded data removed]"
          },
          "metadata": {
            "needs_background": "light"
          }
        }
      ]
    }
  ]
}